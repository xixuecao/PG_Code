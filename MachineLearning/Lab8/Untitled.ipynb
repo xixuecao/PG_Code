{
 "cells": [
  {
   "cell_type": "code",
   "execution_count": 11,
   "metadata": {},
   "outputs": [
    {
     "ename": "TypeError",
     "evalue": "list indices must be integers or slices, not tuple",
     "output_type": "error",
     "traceback": [
      "\u001b[1;31m---------------------------------------------------------------------------\u001b[0m",
      "\u001b[1;31mTypeError\u001b[0m                                 Traceback (most recent call last)",
      "\u001b[1;32m<ipython-input-11-c4b1fe72a21c>\u001b[0m in \u001b[0;36m<module>\u001b[1;34m\u001b[0m\n\u001b[0;32m     61\u001b[0m     \u001b[0mpi\u001b[0m \u001b[1;33m=\u001b[0m \u001b[1;33m[\u001b[0m\u001b[1;36m0.34\u001b[0m\u001b[1;33m,\u001b[0m\u001b[1;36m0.33\u001b[0m\u001b[1;33m,\u001b[0m\u001b[1;36m0.33\u001b[0m\u001b[1;33m]\u001b[0m\u001b[1;33m\u001b[0m\u001b[1;33m\u001b[0m\u001b[0m\n\u001b[0;32m     62\u001b[0m     p = [[0.1,0.3,0.6]\n\u001b[1;32m---> 63\u001b[1;33m          \u001b[1;33m[\u001b[0m\u001b[1;36m0.5\u001b[0m\u001b[1;33m,\u001b[0m\u001b[1;36m0.3\u001b[0m\u001b[1;33m,\u001b[0m\u001b[1;36m0.2\u001b[0m\u001b[1;33m]\u001b[0m\u001b[1;33m\u001b[0m\u001b[1;33m\u001b[0m\u001b[0m\n\u001b[0m\u001b[0;32m     64\u001b[0m          [0.4,0.3,0.3]]\n\u001b[0;32m     65\u001b[0m     q = [[0.2,0.4,0.5]\n",
      "\u001b[1;31mTypeError\u001b[0m: list indices must be integers or slices, not tuple"
     ]
    }
   ],
   "source": [
    "# -*- coding: utf-8 -*-\n",
    "import math\n",
    "\n",
    "def cal_u(pi, p, q, xi):\n",
    "    \"\"\"\n",
    "      u值计算\n",
    "    :param pi: 下一次迭代开始的 pi\n",
    "    :param p:  下一次迭代开始的 p\n",
    "    :param q:  下一次迭代开始的 q\n",
    "    :param xi: 观察数据第i个值，从0开始\n",
    "    :return: \n",
    "    \"\"\"\n",
    "    return pi * math.pow(p, xi) * math.pow(1 - p, 1 - xi) / \\\n",
    "           float(pi * math.pow(p, xi) * math.pow(1 - p, 1 - xi) +\n",
    "                 (1 - pi) * math.pow(q, xi) * math.pow(1 - q, 1 - xi))\n",
    "\n",
    "def e_step(pi,p,q,x):\n",
    "    \"\"\"\n",
    "        e步计算\n",
    "    :param pi: 下一次迭代开始的 pi\n",
    "    :param p:  下一次迭代开始的 p\n",
    "    :param q:  下一次迭代开始的 q\n",
    "    :param x: 观察数据\n",
    "    :return:\n",
    "    \"\"\"\n",
    "    return [cal_u(pi,p,q,xi) for xi in x]\n",
    "\n",
    "def m_step(u,x):\n",
    "    \"\"\"\n",
    "     m步计算\n",
    "    :param u:  m步计算的u\n",
    "    :param x:  观察数据\n",
    "    :return:\n",
    "    \"\"\"\n",
    "    pi1=sum(u)/len(u)\n",
    "    p1=sum([u[i]*x[i] for i in range(len(u))]) / sum(u)\n",
    "    q1=sum([(1-u[i])*x[i] for i in range(len(u))]) / sum([1-u[i] for i in range(len(u))])\n",
    "    return [pi1,p1,q1]\n",
    "\n",
    "def run(observed_x, start_pi, start_p, start_q, iter_num):\n",
    "    \"\"\"\n",
    "\n",
    "    :param observed_x:  观察数据\n",
    "    :param start_pi:  下一次迭代开始的pi $\\pi$\n",
    "    :param start_p:  下一次迭代开始的p\n",
    "    :param start_q:  下一次迭代开始的q\n",
    "    :param iter_num:  迭代次数\n",
    "    :return:\n",
    "    \"\"\"\n",
    "    for i in range(iter_num):\n",
    "        u=e_step(start_pi, start_p, start_q, observed_x)\n",
    "        print (i,[start_pi,start_p,start_q])\n",
    "        if [start_pi,start_p,start_q]==m_step(u, observed_x):\n",
    "            break\n",
    "        else:\n",
    "            [start_pi,start_p,start_q]=m_step(u, observed_x)\n",
    "if __name__ ==\"__main__\":\n",
    "    # 观察数据\n",
    "    x = [1, 1, 0, 1, 0, 0, 1, 0, 1, 1]\n",
    "    # 初始化 pi，p q\n",
    "    pi = [0.34,0.33,0.33]\n",
    "    p = [[0.1,0.3,0.6]\n",
    "         [0.5,0.3,0.2]\n",
    "         [0.4,0.3,0.3]]\n",
    "    q = [[0.2,0.4,0.5]\n",
    "         [0.8,0.6,0.5]]\n",
    "\n",
    "    # 迭代计算\n",
    "    run(x,pi,p,q,100)\n"
   ]
  },
  {
   "cell_type": "code",
   "execution_count": null,
   "metadata": {},
   "outputs": [],
   "source": []
  },
  {
   "cell_type": "code",
   "execution_count": null,
   "metadata": {},
   "outputs": [],
   "source": []
  },
  {
   "cell_type": "code",
   "execution_count": null,
   "metadata": {},
   "outputs": [],
   "source": []
  },
  {
   "cell_type": "code",
   "execution_count": null,
   "metadata": {},
   "outputs": [],
   "source": []
  }
 ],
 "metadata": {
  "kernelspec": {
   "display_name": "Python 3",
   "language": "python",
   "name": "python3"
  },
  "language_info": {
   "codemirror_mode": {
    "name": "ipython",
    "version": 3
   },
   "file_extension": ".py",
   "mimetype": "text/x-python",
   "name": "python",
   "nbconvert_exporter": "python",
   "pygments_lexer": "ipython3",
   "version": "3.6.7rc2"
  }
 },
 "nbformat": 4,
 "nbformat_minor": 2
}
